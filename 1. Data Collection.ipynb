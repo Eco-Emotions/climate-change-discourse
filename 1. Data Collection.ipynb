{
 "cells": [
  {
   "cell_type": "code",
   "execution_count": 1,
   "id": "be50bd80",
   "metadata": {},
   "outputs": [],
   "source": [
    "from config import client_id, client_secret,user_agent\n",
    "import praw\n",
    "\n",
    "# Authenticate with Reddit API using credentials\n",
    "reddit = praw.Reddit(client_id=client_id,\n",
    "                     client_secret=client_secret,\n",
    "                     user_agent=user_agent)"
   ]
  },
  {
   "cell_type": "code",
   "execution_count": 2,
   "id": "90b87f4f",
   "metadata": {},
   "outputs": [
    {
     "name": "stdout",
     "output_type": "stream",
     "text": [
      "                                               Title  \\\n",
      "0  I'm afraid climate change is going to kill me!...   \n",
      "1                                                      \n",
      "2                                                      \n",
      "3                                                      \n",
      "4                                                      \n",
      "\n",
      "                                                Text  \n",
      "0  Feeling scared? Have you been listening to or ...  \n",
      "1  Let's use this space to discuss some of the mo...  \n",
      "2  > Feeling scared? Have you been listening to o...  \n",
      "3  So I know this is a late response to this thre...  \n",
      "4  climate change isn't just going to pop up and ...  \n"
     ]
    }
   ],
   "source": [
    "import pandas as pd\n",
    "\n",
    "# Define the subreddit we want to scrape\n",
    "subreddit = reddit.subreddit('climatechange')\n",
    "\n",
    "# Get the top post from the subreddit\n",
    "top_post = subreddit.top(limit=1)\n",
    "\n",
    "# Create an empty list to store the data\n",
    "data = []\n",
    "\n",
    "# Loop through the top post and extract the title, body, and comments\n",
    "for post in top_post:\n",
    "    data.append([post.title, post.selftext])\n",
    "    post.comments.replace_more(limit=None)\n",
    "    for comment in post.comments.list():\n",
    "        data.append(['', comment.body])\n",
    "\n",
    "# Create a pandas DataFrame from the data\n",
    "df = pd.DataFrame(data, columns=['Title', 'Text'])\n",
    "\n",
    "# Print the DataFrame\n",
    "print(df.head())\n"
   ]
  },
  {
   "cell_type": "code",
   "execution_count": null,
   "id": "5ef228b0",
   "metadata": {},
   "outputs": [],
   "source": [
    "df.to_csv('top100_climatechange.csv', index=False)"
   ]
  }
 ],
 "metadata": {
  "kernelspec": {
   "display_name": "Python 3 (ipykernel)",
   "language": "python",
   "name": "python3"
  },
  "language_info": {
   "codemirror_mode": {
    "name": "ipython",
    "version": 3
   },
   "file_extension": ".py",
   "mimetype": "text/x-python",
   "name": "python",
   "nbconvert_exporter": "python",
   "pygments_lexer": "ipython3",
   "version": "3.9.13"
  }
 },
 "nbformat": 4,
 "nbformat_minor": 5
}
