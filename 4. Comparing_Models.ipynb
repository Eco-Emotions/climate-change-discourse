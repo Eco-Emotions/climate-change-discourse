{
  "cells": [
    {
      "cell_type": "code",
      "execution_count": null,
      "metadata": {
        "id": "kM4QY3cOdYd-",
        "colab": {
          "base_uri": "https://localhost:8080/"
        },
        "outputId": "20cd9453-1829-45bf-a19b-a1d4345dcf98"
      },
      "outputs": [
        {
          "output_type": "stream",
          "name": "stdout",
          "text": [
            "\u001b[2K     \u001b[90m━━━━━━━━━━━━━━━━━━━━━━━━━━━━━━━━━━━━━━━\u001b[0m \u001b[32m120.7/120.7 KB\u001b[0m \u001b[31m3.1 MB/s\u001b[0m eta \u001b[36m0:00:00\u001b[0m\n",
            "\u001b[2K     \u001b[90m━━━━━━━━━━━━━━━━━━━━━━━━━━━━━━━━━━━━━━━━\u001b[0m \u001b[32m5.2/5.2 MB\u001b[0m \u001b[31m50.8 MB/s\u001b[0m eta \u001b[36m0:00:00\u001b[0m\n",
            "\u001b[?25h  Installing build dependencies ... \u001b[?25l\u001b[?25hdone\n",
            "  Getting requirements to build wheel ... \u001b[?25l\u001b[?25hdone\n",
            "  Preparing metadata (pyproject.toml) ... \u001b[?25l\u001b[?25hdone\n",
            "\u001b[2K     \u001b[90m━━━━━━━━━━━━━━━━━━━━━━━━━━━━━━━━━━━━━━━━\u001b[0m \u001b[32m86.0/86.0 KB\u001b[0m \u001b[31m11.4 MB/s\u001b[0m eta \u001b[36m0:00:00\u001b[0m\n",
            "\u001b[?25h  Preparing metadata (setup.py) ... \u001b[?25l\u001b[?25hdone\n",
            "\u001b[2K     \u001b[90m━━━━━━━━━━━━━━━━━━━━━━━━━━━━━━━━━━━━━━━━\u001b[0m \u001b[32m88.2/88.2 KB\u001b[0m \u001b[31m6.6 MB/s\u001b[0m eta \u001b[36m0:00:00\u001b[0m\n",
            "\u001b[?25h  Preparing metadata (setup.py) ... \u001b[?25l\u001b[?25hdone\n",
            "\u001b[2K     \u001b[90m━━━━━━━━━━━━━━━━━━━━━━━━━━━━━━━━━━━━━━━━\u001b[0m \u001b[32m6.3/6.3 MB\u001b[0m \u001b[31m80.2 MB/s\u001b[0m eta \u001b[36m0:00:00\u001b[0m\n",
            "\u001b[2K     \u001b[90m━━━━━━━━━━━━━━━━━━━━━━━━━━━━━━━━━━━━━━━━\u001b[0m \u001b[32m1.3/1.3 MB\u001b[0m \u001b[31m63.4 MB/s\u001b[0m eta \u001b[36m0:00:00\u001b[0m\n",
            "\u001b[2K     \u001b[90m━━━━━━━━━━━━━━━━━━━━━━━━━━━━━━━━━━━━━━\u001b[0m \u001b[32m199.2/199.2 KB\u001b[0m \u001b[31m22.1 MB/s\u001b[0m eta \u001b[36m0:00:00\u001b[0m\n",
            "\u001b[2K     \u001b[90m━━━━━━━━━━━━━━━━━━━━━━━━━━━━━━━━━━━━━━━━\u001b[0m \u001b[32m1.1/1.1 MB\u001b[0m \u001b[31m65.6 MB/s\u001b[0m eta \u001b[36m0:00:00\u001b[0m\n",
            "\u001b[?25h  Preparing metadata (setup.py) ... \u001b[?25l\u001b[?25hdone\n",
            "\u001b[2K     \u001b[90m━━━━━━━━━━━━━━━━━━━━━━━━━━━━━━━━━━━━━━━━\u001b[0m \u001b[32m7.6/7.6 MB\u001b[0m \u001b[31m55.5 MB/s\u001b[0m eta \u001b[36m0:00:00\u001b[0m\n",
            "\u001b[?25h  Building wheel for hdbscan (pyproject.toml) ... \u001b[?25l\u001b[?25hdone\n",
            "  Building wheel for sentence-transformers (setup.py) ... \u001b[?25l\u001b[?25hdone\n",
            "  Building wheel for umap-learn (setup.py) ... \u001b[?25l\u001b[?25hdone\n",
            "  Building wheel for pynndescent (setup.py) ... \u001b[?25l\u001b[?25hdone\n"
          ]
        }
      ],
      "source": [
        "!pip install bertopic --quiet"
      ]
    },
    {
      "cell_type": "markdown",
      "metadata": {
        "id": "t6iNuiIt83wQ"
      },
      "source": [
        "Let's visualize the results of our model"
      ]
    },
    {
      "cell_type": "code",
      "execution_count": null,
      "metadata": {
        "id": "_aGe852Wdh10"
      },
      "outputs": [],
      "source": [
        "import pandas as pd\n",
        "import numpy as np\n",
        "from google.colab import drive"
      ]
    },
    {
      "cell_type": "code",
      "source": [
        "drive.mount('/content/gdrive')"
      ],
      "metadata": {
        "id": "1f4tYG8l2NWb",
        "colab": {
          "base_uri": "https://localhost:8080/"
        },
        "outputId": "7757ef8e-2d12-40ed-c0e1-3ac1b1d65d34"
      },
      "execution_count": null,
      "outputs": [
        {
          "output_type": "stream",
          "name": "stdout",
          "text": [
            "Drive already mounted at /content/gdrive; to attempt to forcibly remount, call drive.mount(\"/content/gdrive\", force_remount=True).\n"
          ]
        }
      ]
    },
    {
      "cell_type": "markdown",
      "source": [
        "Let's import the different models for comparison"
      ],
      "metadata": {
        "id": "EFoRB-vm3FsC"
      }
    },
    {
      "cell_type": "code",
      "execution_count": null,
      "metadata": {
        "id": "aHrunMuV3vGa"
      },
      "outputs": [],
      "source": [
        "import pickle\n",
        "#media = pd.read_pickle(\"/content/gdrive/MyDrive/eco_NPL/model/topic_model_media.pkl\")\n",
        "#nyt = pd.read_pickle(\"/content/gdrive/MyDrive/eco_NPL/model/topic_model_nyt.pkl\")\n",
        "twitter = pd.read_pickle(\"/content/gdrive/MyDrive/eco_NPL/model/model_twitter_v2.pkl\")\n",
        "#reddit = pd.read_pickle(\"/content/gdrive/MyDrive/eco_NPL/model/topic_model_reddit.pkl\")"
      ]
    },
    {
      "cell_type": "code",
      "source": [
        "from sklearn.metrics.pairwise import cosine_similarity\n",
        "sim_matrix = cosine_similarity(reddit.topic_embeddings_, twitter.topic_embeddings_)"
      ],
      "metadata": {
        "id": "6i0sKr9P2eUs"
      },
      "execution_count": null,
      "outputs": []
    },
    {
      "cell_type": "code",
      "source": [
        "topic = 124\n",
        "reddit.get_topic(topic)"
      ],
      "metadata": {
        "colab": {
          "base_uri": "https://localhost:8080/"
        },
        "id": "sZv-iRiD3fh8",
        "outputId": "13bb6d9f-8cd0-48a3-e761-f2a33195032b"
      },
      "execution_count": null,
      "outputs": [
        {
          "output_type": "execute_result",
          "data": {
            "text/plain": [
              "[('engineering', 0.014843579916284154),\n",
              " ('degree', 0.01361370383492849),\n",
              " ('environmental', 0.01256606659419811),\n",
              " ('work', 0.011562574809185653),\n",
              " ('field', 0.010132995100863847),\n",
              " ('science', 0.00852220719922521),\n",
              " ('career', 0.007908753157598524),\n",
              " ('environmental science', 0.00741777726559214),\n",
              " ('college', 0.006923335278353186),\n",
              " ('program', 0.006829140848812761)]"
            ]
          },
          "metadata": {},
          "execution_count": 25
        }
      ]
    },
    {
      "cell_type": "code",
      "source": [
        "most_similar_topic = np.argmax(sim_matrix[topic + 1])-1\n",
        "twitter.get_topic(most_similar_topic)"
      ],
      "metadata": {
        "colab": {
          "base_uri": "https://localhost:8080/"
        },
        "id": "tqzmy6FS4rha",
        "outputId": "8861b265-9195-4fc4-f2a8-5082973686d8"
      },
      "execution_count": null,
      "outputs": [
        {
          "output_type": "execute_result",
          "data": {
            "text/plain": [
              "[('jobs info', 0.12051579448697121),\n",
              " ('engineering jobs', 0.11907094812667991),\n",
              " ('info job', 0.11799351021509909),\n",
              " ('engineering', 0.11778929410442589),\n",
              " ('sustainability engineering', 0.11038433258789372),\n",
              " ('location', 0.10421594633441401),\n",
              " ('info', 0.09427724144592833),\n",
              " ('company', 0.08700471190377942),\n",
              " ('job', 0.08405130041432976),\n",
              " ('jobs', 0.07798422535490637)]"
            ]
          },
          "metadata": {},
          "execution_count": 26
        }
      ]
    },
    {
      "cell_type": "code",
      "source": [
        "twitter.get_topic_info().head(20)"
      ],
      "metadata": {
        "colab": {
          "base_uri": "https://localhost:8080/",
          "height": 677
        },
        "id": "40zvxUIw462V",
        "outputId": "cb823f21-64ff-4904-bbab-fddb4f1f4792"
      },
      "execution_count": null,
      "outputs": [
        {
          "output_type": "execute_result",
          "data": {
            "text/plain": [
              "    Topic  Count                                               Name\n",
              "0      -1  78455                      -1_climate_global_amp_warming\n",
              "1       0   4039          0_sustainability_business_sustainable_csr\n",
              "2       1   3173  1_footprint_carbon footprint_carbon_reduce carbon\n",
              "3       2   3062           2_auspol_australia_australias_australian\n",
              "4       3   2910           3_biodiversity_species_conservation_loss\n",
              "5       4   2644     4_plastic_plastic pollution_recycling_plastics\n",
              "6       5   2554           5_canada_justintrudeau_canadians_trudeau\n",
              "7       6   2362                           6_meat_vegan_animal_beef\n",
              "8       7   1630     7_co2_greenhouse_greenhouse gas_co2 greenhouse\n",
              "9       8   1625               8_global warming_warming_global_hoax\n",
              "10      9   1539     9_disasters_natural disasters_natural_disaster\n",
              "11     10   1538            10_climate crisis_crisis_climate_action\n",
              "12     11   1255           11_eu_brexit_policy_environmental policy\n",
              "13     12   1186                       12_trees_forests_tree_forest\n",
              "14     13   1081  13_environmental_environmental policy_policy_s...\n",
              "15     14   1055                          14_la_la pollution_les_le\n",
              "16     15    937                      15_china_chinas_chinese_india\n",
              "17     16    903  16_policy_environmental policy_environmental_s...\n",
              "18     17    834  17_gillesnfio_friendsoscience_ethonraptor_glad...\n",
              "19     18    832                           18_electric_tesla_ev_evs"
            ],
            "text/html": [
              "\n",
              "  <div id=\"df-458a6506-0e4c-4513-b408-cab69313195a\">\n",
              "    <div class=\"colab-df-container\">\n",
              "      <div>\n",
              "<style scoped>\n",
              "    .dataframe tbody tr th:only-of-type {\n",
              "        vertical-align: middle;\n",
              "    }\n",
              "\n",
              "    .dataframe tbody tr th {\n",
              "        vertical-align: top;\n",
              "    }\n",
              "\n",
              "    .dataframe thead th {\n",
              "        text-align: right;\n",
              "    }\n",
              "</style>\n",
              "<table border=\"1\" class=\"dataframe\">\n",
              "  <thead>\n",
              "    <tr style=\"text-align: right;\">\n",
              "      <th></th>\n",
              "      <th>Topic</th>\n",
              "      <th>Count</th>\n",
              "      <th>Name</th>\n",
              "    </tr>\n",
              "  </thead>\n",
              "  <tbody>\n",
              "    <tr>\n",
              "      <th>0</th>\n",
              "      <td>-1</td>\n",
              "      <td>78455</td>\n",
              "      <td>-1_climate_global_amp_warming</td>\n",
              "    </tr>\n",
              "    <tr>\n",
              "      <th>1</th>\n",
              "      <td>0</td>\n",
              "      <td>4039</td>\n",
              "      <td>0_sustainability_business_sustainable_csr</td>\n",
              "    </tr>\n",
              "    <tr>\n",
              "      <th>2</th>\n",
              "      <td>1</td>\n",
              "      <td>3173</td>\n",
              "      <td>1_footprint_carbon footprint_carbon_reduce carbon</td>\n",
              "    </tr>\n",
              "    <tr>\n",
              "      <th>3</th>\n",
              "      <td>2</td>\n",
              "      <td>3062</td>\n",
              "      <td>2_auspol_australia_australias_australian</td>\n",
              "    </tr>\n",
              "    <tr>\n",
              "      <th>4</th>\n",
              "      <td>3</td>\n",
              "      <td>2910</td>\n",
              "      <td>3_biodiversity_species_conservation_loss</td>\n",
              "    </tr>\n",
              "    <tr>\n",
              "      <th>5</th>\n",
              "      <td>4</td>\n",
              "      <td>2644</td>\n",
              "      <td>4_plastic_plastic pollution_recycling_plastics</td>\n",
              "    </tr>\n",
              "    <tr>\n",
              "      <th>6</th>\n",
              "      <td>5</td>\n",
              "      <td>2554</td>\n",
              "      <td>5_canada_justintrudeau_canadians_trudeau</td>\n",
              "    </tr>\n",
              "    <tr>\n",
              "      <th>7</th>\n",
              "      <td>6</td>\n",
              "      <td>2362</td>\n",
              "      <td>6_meat_vegan_animal_beef</td>\n",
              "    </tr>\n",
              "    <tr>\n",
              "      <th>8</th>\n",
              "      <td>7</td>\n",
              "      <td>1630</td>\n",
              "      <td>7_co2_greenhouse_greenhouse gas_co2 greenhouse</td>\n",
              "    </tr>\n",
              "    <tr>\n",
              "      <th>9</th>\n",
              "      <td>8</td>\n",
              "      <td>1625</td>\n",
              "      <td>8_global warming_warming_global_hoax</td>\n",
              "    </tr>\n",
              "    <tr>\n",
              "      <th>10</th>\n",
              "      <td>9</td>\n",
              "      <td>1539</td>\n",
              "      <td>9_disasters_natural disasters_natural_disaster</td>\n",
              "    </tr>\n",
              "    <tr>\n",
              "      <th>11</th>\n",
              "      <td>10</td>\n",
              "      <td>1538</td>\n",
              "      <td>10_climate crisis_crisis_climate_action</td>\n",
              "    </tr>\n",
              "    <tr>\n",
              "      <th>12</th>\n",
              "      <td>11</td>\n",
              "      <td>1255</td>\n",
              "      <td>11_eu_brexit_policy_environmental policy</td>\n",
              "    </tr>\n",
              "    <tr>\n",
              "      <th>13</th>\n",
              "      <td>12</td>\n",
              "      <td>1186</td>\n",
              "      <td>12_trees_forests_tree_forest</td>\n",
              "    </tr>\n",
              "    <tr>\n",
              "      <th>14</th>\n",
              "      <td>13</td>\n",
              "      <td>1081</td>\n",
              "      <td>13_environmental_environmental policy_policy_s...</td>\n",
              "    </tr>\n",
              "    <tr>\n",
              "      <th>15</th>\n",
              "      <td>14</td>\n",
              "      <td>1055</td>\n",
              "      <td>14_la_la pollution_les_le</td>\n",
              "    </tr>\n",
              "    <tr>\n",
              "      <th>16</th>\n",
              "      <td>15</td>\n",
              "      <td>937</td>\n",
              "      <td>15_china_chinas_chinese_india</td>\n",
              "    </tr>\n",
              "    <tr>\n",
              "      <th>17</th>\n",
              "      <td>16</td>\n",
              "      <td>903</td>\n",
              "      <td>16_policy_environmental policy_environmental_s...</td>\n",
              "    </tr>\n",
              "    <tr>\n",
              "      <th>18</th>\n",
              "      <td>17</td>\n",
              "      <td>834</td>\n",
              "      <td>17_gillesnfio_friendsoscience_ethonraptor_glad...</td>\n",
              "    </tr>\n",
              "    <tr>\n",
              "      <th>19</th>\n",
              "      <td>18</td>\n",
              "      <td>832</td>\n",
              "      <td>18_electric_tesla_ev_evs</td>\n",
              "    </tr>\n",
              "  </tbody>\n",
              "</table>\n",
              "</div>\n",
              "      <button class=\"colab-df-convert\" onclick=\"convertToInteractive('df-458a6506-0e4c-4513-b408-cab69313195a')\"\n",
              "              title=\"Convert this dataframe to an interactive table.\"\n",
              "              style=\"display:none;\">\n",
              "        \n",
              "  <svg xmlns=\"http://www.w3.org/2000/svg\" height=\"24px\"viewBox=\"0 0 24 24\"\n",
              "       width=\"24px\">\n",
              "    <path d=\"M0 0h24v24H0V0z\" fill=\"none\"/>\n",
              "    <path d=\"M18.56 5.44l.94 2.06.94-2.06 2.06-.94-2.06-.94-.94-2.06-.94 2.06-2.06.94zm-11 1L8.5 8.5l.94-2.06 2.06-.94-2.06-.94L8.5 2.5l-.94 2.06-2.06.94zm10 10l.94 2.06.94-2.06 2.06-.94-2.06-.94-.94-2.06-.94 2.06-2.06.94z\"/><path d=\"M17.41 7.96l-1.37-1.37c-.4-.4-.92-.59-1.43-.59-.52 0-1.04.2-1.43.59L10.3 9.45l-7.72 7.72c-.78.78-.78 2.05 0 2.83L4 21.41c.39.39.9.59 1.41.59.51 0 1.02-.2 1.41-.59l7.78-7.78 2.81-2.81c.8-.78.8-2.07 0-2.86zM5.41 20L4 18.59l7.72-7.72 1.47 1.35L5.41 20z\"/>\n",
              "  </svg>\n",
              "      </button>\n",
              "      \n",
              "  <style>\n",
              "    .colab-df-container {\n",
              "      display:flex;\n",
              "      flex-wrap:wrap;\n",
              "      gap: 12px;\n",
              "    }\n",
              "\n",
              "    .colab-df-convert {\n",
              "      background-color: #E8F0FE;\n",
              "      border: none;\n",
              "      border-radius: 50%;\n",
              "      cursor: pointer;\n",
              "      display: none;\n",
              "      fill: #1967D2;\n",
              "      height: 32px;\n",
              "      padding: 0 0 0 0;\n",
              "      width: 32px;\n",
              "    }\n",
              "\n",
              "    .colab-df-convert:hover {\n",
              "      background-color: #E2EBFA;\n",
              "      box-shadow: 0px 1px 2px rgba(60, 64, 67, 0.3), 0px 1px 3px 1px rgba(60, 64, 67, 0.15);\n",
              "      fill: #174EA6;\n",
              "    }\n",
              "\n",
              "    [theme=dark] .colab-df-convert {\n",
              "      background-color: #3B4455;\n",
              "      fill: #D2E3FC;\n",
              "    }\n",
              "\n",
              "    [theme=dark] .colab-df-convert:hover {\n",
              "      background-color: #434B5C;\n",
              "      box-shadow: 0px 1px 3px 1px rgba(0, 0, 0, 0.15);\n",
              "      filter: drop-shadow(0px 1px 2px rgba(0, 0, 0, 0.3));\n",
              "      fill: #FFFFFF;\n",
              "    }\n",
              "  </style>\n",
              "\n",
              "      <script>\n",
              "        const buttonEl =\n",
              "          document.querySelector('#df-458a6506-0e4c-4513-b408-cab69313195a button.colab-df-convert');\n",
              "        buttonEl.style.display =\n",
              "          google.colab.kernel.accessAllowed ? 'block' : 'none';\n",
              "\n",
              "        async function convertToInteractive(key) {\n",
              "          const element = document.querySelector('#df-458a6506-0e4c-4513-b408-cab69313195a');\n",
              "          const dataTable =\n",
              "            await google.colab.kernel.invokeFunction('convertToInteractive',\n",
              "                                                     [key], {});\n",
              "          if (!dataTable) return;\n",
              "\n",
              "          const docLinkHtml = 'Like what you see? Visit the ' +\n",
              "            '<a target=\"_blank\" href=https://colab.research.google.com/notebooks/data_table.ipynb>data table notebook</a>'\n",
              "            + ' to learn more about interactive tables.';\n",
              "          element.innerHTML = '';\n",
              "          dataTable['output_type'] = 'display_data';\n",
              "          await google.colab.output.renderOutput(dataTable, element);\n",
              "          const docLink = document.createElement('div');\n",
              "          docLink.innerHTML = docLinkHtml;\n",
              "          element.appendChild(docLink);\n",
              "        }\n",
              "      </script>\n",
              "    </div>\n",
              "  </div>\n",
              "  "
            ]
          },
          "metadata": {},
          "execution_count": 28
        }
      ]
    },
    {
      "cell_type": "markdown",
      "source": [
        "Now we can rename the highlighted topics in each model"
      ],
      "metadata": {
        "id": "bfxQ00fWE5Mc"
      }
    },
    {
      "cell_type": "code",
      "source": [
        "reddit.set_topic_labels({1: \"Space Travel\", 7: \"Religion\"})"
      ],
      "metadata": {
        "id": "CZPdbQ-ThmGz"
      },
      "execution_count": null,
      "outputs": []
    },
    {
      "cell_type": "markdown",
      "source": [
        "At this point we can extract the visualization for the 4 models"
      ],
      "metadata": {
        "id": "PER7vLgFJgtE"
      }
    },
    {
      "cell_type": "code",
      "execution_count": null,
      "metadata": {
        "id": "vUEUWaNLTzB0"
      },
      "outputs": [],
      "source": [
        "fig2 = model.visualize_documents(text, topics = [0,1,2,3,4,5,6,7,8,9,10], sample=0.1, hide_annotations=True)\n",
        "fig2.write_html(\"visualize_documents.html\")"
      ]
    },
    {
      "cell_type": "code",
      "execution_count": null,
      "metadata": {
        "colab": {
          "base_uri": "https://localhost:8080/",
          "height": 35
        },
        "id": "6fUKmQ-rutB3",
        "outputId": "ed9a7447-a6bf-4150-d52c-2ef3d1ffe9d8"
      },
      "outputs": [
        {
          "data": {
            "text/plain": [
              "<Figure size 432x288 with 0 Axes>"
            ]
          },
          "metadata": {},
          "output_type": "display_data"
        }
      ],
      "source": [
        "import os\n",
        "from wordcloud import WordCloud\n",
        "import matplotlib.pyplot as plt\n",
        "\n",
        "def create_wordcloud(model, topic):\n",
        "    text = {word: value for word, value in model.get_topic(topic)}\n",
        "    wc = WordCloud(background_color=\"white\", max_words=1000)\n",
        "    wc.generate_from_frequencies(text)\n",
        "    plt.imshow(wc, interpolation=\"bilinear\")\n",
        "    plt.axis(\"off\")\n",
        "    \n",
        "if not os.path.exists(\"sample1_top20_wordcloud\"):\n",
        "    os.mkdir(\"sample1_top20_wordcloud\")\n",
        "    \n",
        "for i in range(0,20):\n",
        "    create_wordcloud(model, topic=i)\n",
        "    plt.savefig(\"sample1_top20_wordcloud/sample1_cloud_{}.png\".format(i))\n",
        "    plt.clf() # clear the figure to avoid saving empty images\n"
      ]
    },
    {
      "cell_type": "code",
      "execution_count": null,
      "metadata": {
        "id": "PGBCm6tyvDdz"
      },
      "outputs": [],
      "source": [
        "import zipfile\n",
        "import os\n",
        "\n",
        "folder_name = \"sample1_top20_wordcloud\"\n",
        "zip_name = \"sample1_top20_wordcloud.zip\"\n",
        "\n",
        "# Create an empty zip file\n",
        "with zipfile.ZipFile(zip_name, \"w\") as zip_file:\n",
        "    # Iterate over all files in the folder and add them to the zip file\n",
        "    for root, dirs, files in os.walk(folder_name):\n",
        "        for file in files:\n",
        "            file_path = os.path.join(root, file)\n",
        "            zip_file.write(file_path, os.path.relpath(file_path, folder_name))\n"
      ]
    }
  ],
  "metadata": {
    "accelerator": "GPU",
    "colab": {
      "provenance": []
    },
    "gpuClass": "standard",
    "kernelspec": {
      "display_name": "Python 3",
      "name": "python3"
    },
    "language_info": {
      "name": "python"
    }
  },
  "nbformat": 4,
  "nbformat_minor": 0
}